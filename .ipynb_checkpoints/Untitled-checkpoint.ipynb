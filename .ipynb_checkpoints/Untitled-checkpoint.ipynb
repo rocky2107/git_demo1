{
 "cells": [
  {
   "cell_type": "code",
   "execution_count": 1,
   "id": "f70f59ad-667c-4fc8-90f8-6a12f1658271",
   "metadata": {},
   "outputs": [],
   "source": [
    "import pandas as pd"
   ]
  },
  {
   "cell_type": "code",
   "execution_count": 2,
   "id": "ab213507-9c28-4e42-8ee3-84631c89a62f",
   "metadata": {},
   "outputs": [
    {
     "name": "stdout",
     "output_type": "stream",
     "text": [
      "Hi this is my first file for VS code and Git tutorial\n"
     ]
    }
   ],
   "source": [
    "print(\"Hi this is my first file for VS code and Git tutorial\")"
   ]
  }
 ],
 "metadata": {
  "kernelspec": {
   "display_name": "Python 3 (ipykernel)",
   "language": "python",
   "name": "python3"
  },
  "language_info": {
   "codemirror_mode": {
    "name": "ipython",
    "version": 3
   },
   "file_extension": ".py",
   "mimetype": "text/x-python",
   "name": "python",
   "nbconvert_exporter": "python",
   "pygments_lexer": "ipython3",
   "version": "3.13.3"
  }
 },
 "nbformat": 4,
 "nbformat_minor": 5
}
